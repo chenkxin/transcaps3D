{
 "cells": [
  {
   "cell_type": "markdown",
   "metadata": {},
   "source": [
    "## TSNE stuff"
   ]
  },
  {
   "cell_type": "code",
   "execution_count": 1,
   "metadata": {},
   "outputs": [],
   "source": [
    "# coding='utf-8'\n",
    "\"\"\"t-SNE对手写数字进行可视化\"\"\"\n",
    "from time import time\n",
    "import numpy as np\n",
    "import matplotlib.pyplot as plt\n",
    "\n",
    "from sklearn import datasets\n",
    "from sklearn.manifold import TSNE"
   ]
  },
  {
   "cell_type": "markdown",
   "metadata": {},
   "source": [
    "## MSVC stuff"
   ]
  },
  {
   "cell_type": "code",
   "execution_count": 2,
   "metadata": {},
   "outputs": [],
   "source": [
    "import sys\n",
    "sys.path.append(\"..\")\n",
    "import numpy as np\n",
    "from lib.dataset import makeDataLoader\n",
    "from lib.models import makeModel\n",
    "from lib.loss import makeLoss\n",
    "from lib.utils import evaluate\n",
    "import torch"
   ]
  },
  {
   "cell_type": "code",
   "execution_count": 3,
   "metadata": {},
   "outputs": [
    {
     "data": {
      "text/plain": [
       "52"
      ]
     },
     "execution_count": 3,
     "metadata": {},
     "output_type": "execute_result"
    }
   ],
   "source": [
    "device = torch.device(\"cuda:0\")\n",
    "# data\n",
    "n_samples, classes, testloader = makeDataLoader(train=False, bw=[32,16,8], dataset_name=\"modelnet10\")\n",
    "# loss\n",
    "criterion = makeLoss(\"margin_loss\", nclasses=len(classes))\n",
    "# model\n",
    "_, model = makeModel(\"msvc\",\n",
    "        \"../logs/msvc_modelnet10_marginloss_norotate\",\n",
    "        nclasses=len(classes),\n",
    "        device=device,\n",
    "        is_distributed=True,\n",
    "        use_residual_block=True,\n",
    "        continue_training=True)\n",
    "_"
   ]
  },
  {
   "cell_type": "code",
   "execution_count": null,
   "metadata": {},
   "outputs": [],
   "source": [
    "result_eval = evaluate(model, criterion, testloader, device, nclasses=len(classes), plot=True)"
   ]
  },
  {
   "cell_type": "code",
   "execution_count": null,
   "metadata": {},
   "outputs": [],
   "source": [
    "result_eval"
   ]
  },
  {
   "cell_type": "code",
   "execution_count": null,
   "metadata": {},
   "outputs": [],
   "source": [
    "def get_embeddings(model, testloader):\n",
    "    model.eval()\n",
    "    embeddings = []\n",
    "    labels = []\n",
    "    for batch_idx, (data, target) in enumerate(testloader):\n",
    "        if isinstance(data, list):\n",
    "            inputs = [i.to(device) for i in data]\n",
    "            data = inputs\n",
    "        else:\n",
    "            data = data.to(device)\n",
    "        prediction = model(data)\n",
    "        embeddings.append(prediction.cpu().detach().numpy())\n",
    "        labels.append(target.cpu().detach().numpy())\n",
    "    embeddings = np.concatenate(embeddings, axis=0)\n",
    "    labels = np.concatenate(labels, axis=0)\n",
    "    n_samples, n_features = embeddings.shape\n",
    "    return embeddings, labels, n_samples, n_features\n",
    "\n",
    "def plot_embedding(data, label, title):\n",
    "    x_min, x_max = np.min(data, 0), np.max(data, 0)\n",
    "    data = (data - x_min) / (x_max - x_min)\n",
    "\n",
    "    fig = plt.figure()\n",
    "    ax = plt.subplot(111)\n",
    "    for i in range(data.shape[0]):\n",
    "        plt.text(data[i, 0], data[i, 1], str(label[i]),\n",
    "                 color=plt.cm.Set1(label[i] / 10.),\n",
    "                 fontdict={'weight': 'bold', 'size': 9})\n",
    "    plt.xticks([])\n",
    "    plt.yticks([])\n",
    "    plt.title(title)\n",
    "    plt.figure(dpi=300,figsize=(24,16))\n",
    "    return fig\n",
    "\n",
    "\n",
    "def main(func=None):\n",
    "    if not func:\n",
    "        return\n",
    "    data, label, n_samples, n_features = func(model, testloader)\n",
    "    print('Computing t-SNE embedding')\n",
    "    tsne = TSNE(n_components=2, init='pca', random_state=0)\n",
    "    t0 = time()\n",
    "    result = tsne.fit_transform(data)\n",
    "    fig = plot_embedding(result, label,\n",
    "                         't-SNE embedding of ModelNet10'\n",
    "                         % (time() - t0))\n",
    "    plt.show(fig)\n",
    "\n",
    "\n",
    "main(get_embeddings)"
   ]
  },
  {
   "cell_type": "code",
   "execution_count": null,
   "metadata": {},
   "outputs": [],
   "source": [
    "data, label, n_samples, n_features = get_embeddings(model, testloader)"
   ]
  },
  {
   "cell_type": "code",
   "execution_count": null,
   "metadata": {},
   "outputs": [],
   "source": [
    "def get_data(model, testloader):\n",
    "    embeddings = []\n",
    "    labels = []\n",
    "    for batch_idx, (data, target) in enumerate(testloader):\n",
    "        e=np.concatenate([data[i].reshape(4,-1).cpu().detach().numpy() for i in range(3)], axis=1)\n",
    "        embeddings.append(e)\n",
    "        labels.append(target)\n",
    "    embeddings = np.concatenate(embeddings, axis=0)\n",
    "    labels = np.concatenate(labels, axis=0)\n",
    "    n_samples, n_features = embeddings.shape\n",
    "    return embeddings, labels, n_samples, n_features\n",
    "embeddings, labels, n_samples, n_features = get_data(model, testloader)"
   ]
  },
  {
   "cell_type": "code",
   "execution_count": null,
   "metadata": {},
   "outputs": [],
   "source": [
    "main(get_data)"
   ]
  },
  {
   "cell_type": "code",
   "execution_count": null,
   "metadata": {},
   "outputs": [],
   "source": []
  },
  {
   "cell_type": "code",
   "execution_count": null,
   "metadata": {},
   "outputs": [],
   "source": []
  }
 ],
 "metadata": {
  "kernelspec": {
   "display_name": "Python 3",
   "language": "python",
   "name": "python3"
  },
  "language_info": {
   "codemirror_mode": {
    "name": "ipython",
    "version": 3
   },
   "file_extension": ".py",
   "mimetype": "text/x-python",
   "name": "python",
   "nbconvert_exporter": "python",
   "pygments_lexer": "ipython3",
   "version": "3.7.7"
  }
 },
 "nbformat": 4,
 "nbformat_minor": 4
}
