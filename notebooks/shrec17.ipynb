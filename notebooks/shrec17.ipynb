{
 "cells": [
  {
   "cell_type": "markdown",
   "metadata": {},
   "source": [
    "# SHREC17 数据集处理\n",
    "scenenn: ply文件 2585个\n",
    "shapenet: obj文件 3678个\n",
    "\n",
    "需要将前两者转为off文件，并区分 train val test\n",
    "写了脚本`process.sh`:\n",
    "```bash\n",
    "#!/bin/bash\n",
    "name=$(echo $1 | cut -f 1 -d '.')\n",
    "ms -i $1 \\\n",
    "      -o \"objects_off\"/\"$name\".off \\\n",
    "      -s ~/caps3d/data/shrec17/test.mlx 1>/dev/null\n",
    "```\n",
    "这个脚本接收一个参数就可以运行了，运行放在`objects_off`文件夹下。实际运行我们希望快一点，使用`parallel`进行加速：\n",
    "```bash\n",
    "parallel -j 10 'bash process.sh {}' ::: `ls *.obj`\n",
    "```\n"
   ]
  },
  {
   "cell_type": "code",
   "execution_count": 76,
   "metadata": {},
   "outputs": [],
   "source": [
    "import pandas as pd\n",
    "import shutil\n",
    "\n",
    "for mode in ['train', 'test', 'validation']:\n",
    "    train_csv = pd.read_csv(f\"./shrec17/{mode}.csv\")\n",
    "    size = train_csv.loc[:,'fullId'].size\n",
    "\n",
    "    for i in range(size):\n",
    "\n",
    "        name = train_csv.loc[i,'fullId']\n",
    "        d_ = name.split(\".\")[0]\n",
    "        name = name.split(\".\")[-1]\n",
    "        category = train_csv.loc[i, 'category']\n",
    "        if d_ == \"snn\":\n",
    "            source_file = f\"/home/qiangzibro/caps3d/data/shrec17/scenenn/objects/objects_off/{name}.off\"\n",
    "\n",
    "        elif d_ == 'wss':\n",
    "            source_file = f\"/home/qiangzibro/caps3d/data/shrec17/shapenet/models/objects_off/{name}.off\"\n",
    "        target_file = f\"/home/qiangzibro/caps3d/data/shrec17/shrec17_{mode}/{category}_{i}.off\"\n",
    "        if os.path.isfile(source_file):\n",
    "            shutil.copy(source_file, target_file)\n",
    "        else:\n",
    "            print(f\"unexisted file:{source_file}\")\n",
    "\n",
    "# sub_category = train_csv.loc[i, 'sub_category']"
   ]
  }
 ],
 "metadata": {
  "kernelspec": {
   "display_name": "Python 3",
   "language": "python",
   "name": "python3"
  },
  "language_info": {
   "codemirror_mode": {
    "name": "ipython",
    "version": 3
   },
   "file_extension": ".py",
   "mimetype": "text/x-python",
   "name": "python",
   "nbconvert_exporter": "python",
   "pygments_lexer": "ipython3",
   "version": "3.7.7"
  }
 },
 "nbformat": 4,
 "nbformat_minor": 4
}
